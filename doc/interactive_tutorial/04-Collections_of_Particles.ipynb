{
 "cells": [
  {
   "cell_type": "code",
   "execution_count": 1,
   "metadata": {},
   "outputs": [],
   "source": [
    "%matplotlib inline\n",
    "from matplotlib import pyplot\n",
    "import numpy"
   ]
  },
  {
   "cell_type": "markdown",
   "metadata": {},
   "source": [
    "In amuse we mostly work with one or multiple collections of particles. These collections can be thought of as tables were each particle is represented by a row in the table:\n",
    "\n",
    "<table>\n",
    "    <tr>\n",
    "        <th>Particle</th>\n",
    "        <th>mass</th>\n",
    "        <th>radius</th>\n",
    "    </tr>\n",
    "    <tr>\n",
    "        <td>1</td>\n",
    "        <td>10.0</td>\n",
    "        <td>3.5</td>\n",
    "    </tr>\n",
    "    <tr>\n",
    "        <td>2</td>\n",
    "        <td>4.0</td>\n",
    "        <td>1</td>\n",
    "    </tr>\n",
    "</table>\n",
    "\n",
    "\n",
    "<p style=\"background-color: lightyellow\">\n",
    "<em>Background:</em> AMUSE is optimized to work with columns in the particle collections, each column represents an attribute of the particles in the collection (in the above table the particle collection stores the masses and raddii of the particles). Instead of looping through the particle set we run a function on one or more columns of the set. These functions are often numpy functions and optimized in C, so much faster than looping in python. This will take some time to get used to but often results in more compact Python code that will be easier to understand.\n",
    "</p>\n",
    "\n"
   ]
  },
  {
   "cell_type": "code",
   "execution_count": 2,
   "metadata": {},
   "outputs": [],
   "source": [
    "from amuse.lab import *"
   ]
  },
  {
   "cell_type": "markdown",
   "metadata": {},
   "source": [
    "If you know how many particles you want, you can create a collection of particles by specifying the size of the collection. AMUSE will create a set of particles were each particle has a unique 128-bit key. Except for the key, the particles will not have any attributes."
   ]
  },
  {
   "cell_type": "code",
   "execution_count": 3,
   "metadata": {},
   "outputs": [
    {
     "name": "stdout",
     "output_type": "stream",
     "text": [
      "                 key\n",
      "                   -\n",
      "====================\n",
      " 1730391153621897188\n",
      "  795126216805448698\n",
      "13908929637867609557\n",
      "12947731035057459298\n",
      "13935494503532388750\n",
      "14720608803899596201\n",
      " 9967728633060640691\n",
      "====================\n"
     ]
    }
   ],
   "source": [
    "planets = Particles(7)\n",
    "print(planets)"
   ]
  },
  {
   "cell_type": "markdown",
   "metadata": {},
   "source": [
    "The `planets` collection is not very useful yet, it only contains a set of empty particles. We can make it more interesting by specifying a mass and radius."
   ]
  },
  {
   "cell_type": "code",
   "execution_count": 4,
   "metadata": {},
   "outputs": [
    {
     "name": "stdout",
     "output_type": "stream",
     "text": [
      "                 key         mass       radius\n",
      "                   -   1e+21 * kg    6384 * km\n",
      "====================  ===========  ===========\n",
      " 1730391153621897188    6.419e+02    5.320e-01\n",
      "  795126216805448698    4.868e+03    9.500e-01\n",
      "13908929637867609557    5.974e+03    1.000e+00\n",
      "12947731035057459298    1.024e+05    3.860e+00\n",
      "13935494503532388750    8.683e+04    3.980e+00\n",
      "14720608803899596201    5.685e+05    9.140e+00\n",
      " 9967728633060640691    1.899e+06    1.097e+01\n",
      "====================  ===========  ===========\n"
     ]
    }
   ],
   "source": [
    "planets.mass = [641.85, 4868.5, 5973.6, 102430, 86832, 568460, 1898600] | (1e21 * units.kg)\n",
    "planets.radius =  [0.532, 0.950, 1, 3.86, 3.98, 9.14, 10.97] | (6384 * units.km)\n",
    "print(planets)"
   ]
  },
  {
   "cell_type": "markdown",
   "metadata": {},
   "source": [
    "The above example shows one of the dynamic properties of a particle collection, you can define a new attribute for all particles by assigning a value to the an attribute name. AMUSE does not limit the names, except these have to be valid python attribute names. \n",
    "\n",
    "It is easy to specify the same value for all attributes: "
   ]
  },
  {
   "cell_type": "code",
   "execution_count": 5,
   "metadata": {},
   "outputs": [
    {
     "name": "stdout",
     "output_type": "stream",
     "text": [
      "                 key      density         mass       radius\n",
      "                   -  kg / (m**3)   1e+21 * kg    6384 * km\n",
      "====================  ===========  ===========  ===========\n",
      " 1730391153621897188    1.000e+03    6.419e+02    5.320e-01\n",
      "  795126216805448698    1.000e+03    4.868e+03    9.500e-01\n",
      "13908929637867609557    1.000e+03    5.974e+03    1.000e+00\n",
      "12947731035057459298    1.000e+03    1.024e+05    3.860e+00\n",
      "13935494503532388750    1.000e+03    8.683e+04    3.980e+00\n",
      "14720608803899596201    1.000e+03    5.685e+05    9.140e+00\n",
      " 9967728633060640691    1.000e+03    1.899e+06    1.097e+01\n",
      "====================  ===========  ===========  ===========\n"
     ]
    }
   ],
   "source": [
    "planets.density = 1000.0 | units.kg / units.m**3\n",
    "print(planets)"
   ]
  },
  {
   "cell_type": "markdown",
   "metadata": {},
   "source": [
    "Or request the value of an attribute for all particles:"
   ]
  },
  {
   "cell_type": "code",
   "execution_count": 6,
   "metadata": {},
   "outputs": [
    {
     "name": "stdout",
     "output_type": "stream",
     "text": [
      "[6.4185e+23, 4.8685e+24, 5.9736e+24, 1.0243e+26, 8.6832e+25, 5.6846e+26, 1.8986e+27] kg\n"
     ]
    }
   ],
   "source": [
    "print(planets.mass)"
   ]
  },
  {
   "cell_type": "markdown",
   "metadata": {},
   "source": [
    "We can calculate the density instead of just setting to the same value for all particles."
   ]
  },
  {
   "cell_type": "code",
   "execution_count": 7,
   "metadata": {},
   "outputs": [
    {
     "name": "stdout",
     "output_type": "stream",
     "text": [
      "                 key      density         mass       radius       volume\n",
      "                   -  kg / (m**3)   1e+21 * kg    6384 * km  2.60182831104e+20 * m**3\n",
      "====================  ===========  ===========  ===========  ===========\n",
      " 1730391153621897188    3.911e+03    6.419e+02    5.320e-01    6.307e-01\n",
      "  795126216805448698    5.210e+03    4.868e+03    9.500e-01    3.591e+00\n",
      "13908929637867609557    5.481e+03    5.974e+03    1.000e+00    4.189e+00\n",
      "12947731035057459298    1.634e+03    1.024e+05    3.860e+00    2.409e+02\n",
      "13935494503532388750    1.264e+03    8.683e+04    3.980e+00    2.641e+02\n",
      "14720608803899596201    6.831e+02    5.685e+05    9.140e+00    3.198e+03\n",
      " 9967728633060640691    1.320e+03    1.899e+06    1.097e+01    5.530e+03\n",
      "====================  ===========  ===========  ===========  ===========\n"
     ]
    }
   ],
   "source": [
    "planets.volume = 4.0 / 3.0 * numpy.pi * planets.radius**3\n",
    "planets.density = planets.mass /  planets.volume\n",
    "print(planets)"
   ]
  },
  {
   "cell_type": "markdown",
   "metadata": {},
   "source": [
    "If you request an attribute of a particle collection, AMUSE will return a vector quantity. You can do several operations on these vectors:"
   ]
  },
  {
   "cell_type": "code",
   "execution_count": 8,
   "metadata": {},
   "outputs": [
    {
     "name": "stdout",
     "output_type": "stream",
     "text": [
      "Total mass of the planets: 2.66780595e+27 kg\n",
      "Mean density of the planets: 2786.19955417 kg * m**-3\n"
     ]
    }
   ],
   "source": [
    "print(\"Total mass of the planets:\", planets.mass.sum())\n",
    "print(\"Mean density of the planets:\", planets.density.mean())"
   ]
  },
  {
   "cell_type": "markdown",
   "metadata": {},
   "source": [
    "Ofcourse, you can also work with one particle in the set. This works the same as it does for python lists, but instead of an object stored in the list you will get a Particle object that points to the correct row in the particle collection. All changes made on the particle will be reflected in the collection."
   ]
  },
  {
   "cell_type": "code",
   "execution_count": 9,
   "metadata": {},
   "outputs": [
    {
     "name": "stdout",
     "output_type": "stream",
     "text": [
      "Particle(13908929637867609557, set=<4876645568>\n",
      "    , density=5481.11474546 kg * m**-3\n",
      "    , mass=5.9736e+24 kg\n",
      "    , radius=6384.0 km\n",
      "    , volume=1.08985129438e+21 m**3)\n",
      "                 key      density         mass       radius       volume\n",
      "                   -  kg / (m**3)   1e+21 * kg    6384 * km  2.60182831104e+20 * m**3\n",
      "====================  ===========  ===========  ===========  ===========\n",
      " 1730391153621897188    3.911e+03    6.419e+02    5.320e-01    6.307e-01\n",
      "  795126216805448698    5.210e+03    4.868e+03    9.500e-01    3.591e+00\n",
      "13908929637867609557    5.520e+03    5.974e+03    1.000e+00    4.189e+00\n",
      "12947731035057459298    1.634e+03    1.024e+05    3.860e+00    2.409e+02\n",
      "13935494503532388750    1.264e+03    8.683e+04    3.980e+00    2.641e+02\n",
      "14720608803899596201    6.831e+02    5.685e+05    9.140e+00    3.198e+03\n",
      " 9967728633060640691    1.320e+03    1.899e+06    1.097e+01    5.530e+03\n",
      "====================  ===========  ===========  ===========  ===========\n"
     ]
    }
   ],
   "source": [
    "earth = planets[2]\n",
    "print(earth)\n",
    "\n",
    "earth.density = 5.52 | units.g / units.cm**3\n",
    "print(planets)"
   ]
  },
  {
   "cell_type": "markdown",
   "metadata": {},
   "source": [
    "As the particle is just a pointer into the particle collection, adding a new attribute to a particle will also add a new attribute to the collection, AMUSE will set the value of this new attribute to zero (0.0) for all other particles in the set"
   ]
  },
  {
   "cell_type": "code",
   "execution_count": 10,
   "metadata": {},
   "outputs": [
    {
     "name": "stdout",
     "output_type": "stream",
     "text": [
      "                 key      density         mass   population       radius       volume\n",
      "                   -  kg / (m**3)   1e+21 * kg         none    6384 * km  2.60182831104e+20 * m**3\n",
      "====================  ===========  ===========  ===========  ===========  ===========\n",
      " 1730391153621897188    3.911e+03    6.419e+02            0    5.320e-01    6.307e-01\n",
      "  795126216805448698    5.210e+03    4.868e+03            0    9.500e-01    3.591e+00\n",
      "13908929637867609557    5.520e+03    5.974e+03   6973738433    1.000e+00    4.189e+00\n",
      "12947731035057459298    1.634e+03    1.024e+05            0    3.860e+00    2.409e+02\n",
      "13935494503532388750    1.264e+03    8.683e+04            0    3.980e+00    2.641e+02\n",
      "14720608803899596201    6.831e+02    5.685e+05            0    9.140e+00    3.198e+03\n",
      " 9967728633060640691    1.320e+03    1.899e+06            0    1.097e+01    5.530e+03\n",
      "====================  ===========  ===========  ===========  ===========  ===========\n"
     ]
    }
   ],
   "source": [
    "earth.population = 6973738433\n",
    "\n",
    "print(planets)"
   ]
  },
  {
   "cell_type": "markdown",
   "metadata": {},
   "source": [
    "Finally, you can also create single particles and add these to a particle collection. (A single particle created like this points to a particle collection with only one particle in it)."
   ]
  },
  {
   "cell_type": "code",
   "execution_count": 11,
   "metadata": {},
   "outputs": [
    {
     "name": "stdout",
     "output_type": "stream",
     "text": [
      "Particle(1458343496802539887, set=<4494663200>\n",
      "    , mass=1.305 kg\n",
      "    , radius=1153.0 km)\n",
      "                 key      density         mass   population       radius       volume\n",
      "                   -  kg / (m**3)   1e+21 * kg         none    6384 * km  2.60182831104e+20 * m**3\n",
      "====================  ===========  ===========  ===========  ===========  ===========\n",
      " 1730391153621897188    3.911e+03    6.419e+02            0    5.320e-01    6.307e-01\n",
      "  795126216805448698    5.210e+03    4.868e+03            0    9.500e-01    3.591e+00\n",
      "13908929637867609557    5.520e+03    5.974e+03   6973738433    1.000e+00    4.189e+00\n",
      "12947731035057459298    1.634e+03    1.024e+05            0    3.860e+00    2.409e+02\n",
      "13935494503532388750    1.264e+03    8.683e+04            0    3.980e+00    2.641e+02\n",
      "14720608803899596201    6.831e+02    5.685e+05            0    9.140e+00    3.198e+03\n",
      " 9967728633060640691    1.320e+03    1.899e+06            0    1.097e+01    5.530e+03\n",
      " 1458343496802539887    0.000e+00    1.305e-21            0    1.806e-01    0.000e+00\n",
      "====================  ===========  ===========  ===========  ===========  ===========\n"
     ]
    }
   ],
   "source": [
    "pluto = Particle(mass=1.305 | units.kg, radius=1153 | units.km)\n",
    "print(pluto)\n",
    "planets.add_particle(pluto)\n",
    "print(planets)"
   ]
  },
  {
   "cell_type": "markdown",
   "metadata": {},
   "source": [
    "\n"
   ]
  },
  {
   "cell_type": "markdown",
   "metadata": {},
   "source": [
    "A particle collection can represent sets of many different kinds of astrophysical bodies (planets, stars, dark matter, smoothed hydrodynamics particles, etc.). The type of particles in a collection is determined by the attributes (stars may have different attributes than planets) and how you use the set.\n",
    "Putting different kinds of particles in a set is possible, but in those cases some attributes will have valid values and some will be zero (for example if you would add the sun with it's luminocity to this this table. In practice, we recommend you put one kind of particle in a set (for example have a different set for stars, gas clouds and dark matter particles)"
   ]
  },
  {
   "cell_type": "code",
   "execution_count": 12,
   "metadata": {},
   "outputs": [
    {
     "name": "stdout",
     "output_type": "stream",
     "text": [
      "                 key      density   luminosity         mass   population       radius       volume\n",
      "                   -  kg / (m**3)         LSun   1e+21 * kg         none    6384 * km  2.60182831104e+20 * m**3\n",
      "====================  ===========  ===========  ===========  ===========  ===========  ===========\n",
      " 1730391153621897188    3.911e+03    0.000e+00    6.419e+02            0    5.320e-01    6.307e-01\n",
      "  795126216805448698    5.210e+03    0.000e+00    4.868e+03            0    9.500e-01    3.591e+00\n",
      "13908929637867609557    5.520e+03    0.000e+00    5.974e+03   6973738433    1.000e+00    4.189e+00\n",
      "12947731035057459298    1.634e+03    0.000e+00    1.024e+05            0    3.860e+00    2.409e+02\n",
      "13935494503532388750    1.264e+03    0.000e+00    8.683e+04            0    3.980e+00    2.641e+02\n",
      "14720608803899596201    6.831e+02    0.000e+00    5.685e+05            0    9.140e+00    3.198e+03\n",
      " 9967728633060640691    1.320e+03    0.000e+00    1.899e+06            0    1.097e+01    5.530e+03\n",
      " 1458343496802539887    0.000e+00    0.000e+00    1.305e-21            0    1.806e-01    0.000e+00\n",
      "11670509250794333950    0.000e+00    1.000e+00    1.989e+09            0    1.089e+02    0.000e+00\n",
      "====================  ===========  ===========  ===========  ===========  ===========  ===========\n"
     ]
    }
   ],
   "source": [
    "sun = Particle(mass=1 | units.MSun, radius=1 | units.RSun, luminosity=1 | units.LSun)\n",
    "planets.add_particle(sun)\n",
    "print(planets)"
   ]
  }
 ],
 "metadata": {
  "kernelspec": {
   "display_name": "Python 3",
   "language": "python",
   "name": "python3"
  },
  "language_info": {
   "codemirror_mode": {
    "name": "ipython",
    "version": 3
   },
   "file_extension": ".py",
   "mimetype": "text/x-python",
   "name": "python",
   "nbconvert_exporter": "python",
   "pygments_lexer": "ipython3",
   "version": "3.8.3"
  }
 },
 "nbformat": 4,
 "nbformat_minor": 1
}
